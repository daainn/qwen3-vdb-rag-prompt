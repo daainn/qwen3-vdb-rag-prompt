{
 "cells": [
  {
   "cell_type": "code",
   "execution_count": 6,
   "id": "6e0fd193",
   "metadata": {
    "id": "6e0fd193",
    "outputId": "2a1e7cec-f314-46ba-b505-e41884b01e3c",
    "scrolled": true
   },
   "outputs": [
    {
     "name": "stdout",
     "output_type": "stream",
     "text": [
      "Requirement already satisfied: accelerate in /usr/local/lib/python3.10/dist-packages (1.7.0)\n",
      "Requirement already satisfied: numpy<3.0.0,>=1.17 in /usr/local/lib/python3.10/dist-packages (from accelerate) (1.26.4)\n",
      "Requirement already satisfied: packaging>=20.0 in /usr/local/lib/python3.10/dist-packages (from accelerate) (23.2)\n",
      "Requirement already satisfied: psutil in /usr/local/lib/python3.10/dist-packages (from accelerate) (5.9.6)\n",
      "Requirement already satisfied: pyyaml in /usr/local/lib/python3.10/dist-packages (from accelerate) (6.0.1)\n",
      "Requirement already satisfied: torch>=2.0.0 in /usr/local/lib/python3.10/dist-packages (from accelerate) (2.1.0+cu118)\n",
      "Requirement already satisfied: huggingface-hub>=0.21.0 in /usr/local/lib/python3.10/dist-packages (from accelerate) (0.31.4)\n",
      "Requirement already satisfied: safetensors>=0.4.3 in /usr/local/lib/python3.10/dist-packages (from accelerate) (0.5.3)\n",
      "Requirement already satisfied: filelock in /usr/local/lib/python3.10/dist-packages (from huggingface-hub>=0.21.0->accelerate) (3.9.0)\n",
      "Requirement already satisfied: fsspec>=2023.5.0 in /usr/local/lib/python3.10/dist-packages (from huggingface-hub>=0.21.0->accelerate) (2025.5.0)\n",
      "Requirement already satisfied: requests in /usr/local/lib/python3.10/dist-packages (from huggingface-hub>=0.21.0->accelerate) (2.31.0)\n",
      "Requirement already satisfied: tqdm>=4.42.1 in /usr/local/lib/python3.10/dist-packages (from huggingface-hub>=0.21.0->accelerate) (4.67.1)\n",
      "Requirement already satisfied: typing-extensions>=3.7.4.3 in /usr/local/lib/python3.10/dist-packages (from huggingface-hub>=0.21.0->accelerate) (4.13.2)\n",
      "Requirement already satisfied: sympy in /usr/local/lib/python3.10/dist-packages (from torch>=2.0.0->accelerate) (1.12)\n",
      "Requirement already satisfied: networkx in /usr/local/lib/python3.10/dist-packages (from torch>=2.0.0->accelerate) (3.0)\n",
      "Requirement already satisfied: jinja2 in /usr/local/lib/python3.10/dist-packages (from torch>=2.0.0->accelerate) (3.1.2)\n",
      "Requirement already satisfied: triton==2.1.0 in /usr/local/lib/python3.10/dist-packages (from torch>=2.0.0->accelerate) (2.1.0)\n",
      "Requirement already satisfied: MarkupSafe>=2.0 in /usr/local/lib/python3.10/dist-packages (from jinja2->torch>=2.0.0->accelerate) (2.1.2)\n",
      "Requirement already satisfied: charset-normalizer<4,>=2 in /usr/local/lib/python3.10/dist-packages (from requests->huggingface-hub>=0.21.0->accelerate) (2.1.1)\n",
      "Requirement already satisfied: idna<4,>=2.5 in /usr/local/lib/python3.10/dist-packages (from requests->huggingface-hub>=0.21.0->accelerate) (3.4)\n",
      "Requirement already satisfied: urllib3<3,>=1.21.1 in /usr/local/lib/python3.10/dist-packages (from requests->huggingface-hub>=0.21.0->accelerate) (1.26.13)\n",
      "Requirement already satisfied: certifi>=2017.4.17 in /usr/local/lib/python3.10/dist-packages (from requests->huggingface-hub>=0.21.0->accelerate) (2022.12.7)\n",
      "Requirement already satisfied: mpmath>=0.19 in /usr/local/lib/python3.10/dist-packages (from sympy->torch>=2.0.0->accelerate) (1.3.0)\n",
      "\u001b[33mWARNING: Running pip as the 'root' user can result in broken permissions and conflicting behaviour with the system package manager. It is recommended to use a virtual environment instead: https://pip.pypa.io/warnings/venv\u001b[0m\u001b[33m\n",
      "\u001b[0m\n",
      "\u001b[1m[\u001b[0m\u001b[34;49mnotice\u001b[0m\u001b[1;39;49m]\u001b[0m\u001b[39;49m A new release of pip is available: \u001b[0m\u001b[31;49m23.3.1\u001b[0m\u001b[39;49m -> \u001b[0m\u001b[32;49m25.1.1\u001b[0m\n",
      "\u001b[1m[\u001b[0m\u001b[34;49mnotice\u001b[0m\u001b[1;39;49m]\u001b[0m\u001b[39;49m To update, run: \u001b[0m\u001b[32;49mpython -m pip install --upgrade pip\u001b[0m\n",
      "\u001b[33mWARNING: Running pip as the 'root' user can result in broken permissions and conflicting behaviour with the system package manager. It is recommended to use a virtual environment instead: https://pip.pypa.io/warnings/venv\u001b[0m\u001b[33m\n",
      "\u001b[0m\n",
      "\u001b[1m[\u001b[0m\u001b[34;49mnotice\u001b[0m\u001b[1;39;49m]\u001b[0m\u001b[39;49m A new release of pip is available: \u001b[0m\u001b[31;49m23.3.1\u001b[0m\u001b[39;49m -> \u001b[0m\u001b[32;49m25.1.1\u001b[0m\n",
      "\u001b[1m[\u001b[0m\u001b[34;49mnotice\u001b[0m\u001b[1;39;49m]\u001b[0m\u001b[39;49m To update, run: \u001b[0m\u001b[32;49mpython -m pip install --upgrade pip\u001b[0m\n",
      "\u001b[33mWARNING: Running pip as the 'root' user can result in broken permissions and conflicting behaviour with the system package manager. It is recommended to use a virtual environment instead: https://pip.pypa.io/warnings/venv\u001b[0m\u001b[33m\n",
      "\u001b[0m\n",
      "\u001b[1m[\u001b[0m\u001b[34;49mnotice\u001b[0m\u001b[1;39;49m]\u001b[0m\u001b[39;49m A new release of pip is available: \u001b[0m\u001b[31;49m23.3.1\u001b[0m\u001b[39;49m -> \u001b[0m\u001b[32;49m25.1.1\u001b[0m\n",
      "\u001b[1m[\u001b[0m\u001b[34;49mnotice\u001b[0m\u001b[1;39;49m]\u001b[0m\u001b[39;49m To update, run: \u001b[0m\u001b[32;49mpython -m pip install --upgrade pip\u001b[0m\n",
      "\u001b[33mWARNING: Running pip as the 'root' user can result in broken permissions and conflicting behaviour with the system package manager. It is recommended to use a virtual environment instead: https://pip.pypa.io/warnings/venv\u001b[0m\u001b[33m\n",
      "\u001b[0m\n",
      "\u001b[1m[\u001b[0m\u001b[34;49mnotice\u001b[0m\u001b[1;39;49m]\u001b[0m\u001b[39;49m A new release of pip is available: \u001b[0m\u001b[31;49m23.3.1\u001b[0m\u001b[39;49m -> \u001b[0m\u001b[32;49m25.1.1\u001b[0m\n",
      "\u001b[1m[\u001b[0m\u001b[34;49mnotice\u001b[0m\u001b[1;39;49m]\u001b[0m\u001b[39;49m To update, run: \u001b[0m\u001b[32;49mpython -m pip install --upgrade pip\u001b[0m\n",
      "Collecting transformers==4.51.0\n",
      "  Downloading transformers-4.51.0-py3-none-any.whl.metadata (38 kB)\n",
      "Requirement already satisfied: filelock in /usr/local/lib/python3.10/dist-packages (from transformers==4.51.0) (3.9.0)\n",
      "Requirement already satisfied: huggingface-hub<1.0,>=0.30.0 in /usr/local/lib/python3.10/dist-packages (from transformers==4.51.0) (0.31.4)\n",
      "Requirement already satisfied: numpy>=1.17 in /usr/local/lib/python3.10/dist-packages (from transformers==4.51.0) (1.26.4)\n",
      "Requirement already satisfied: packaging>=20.0 in /usr/local/lib/python3.10/dist-packages (from transformers==4.51.0) (23.2)\n",
      "Requirement already satisfied: pyyaml>=5.1 in /usr/local/lib/python3.10/dist-packages (from transformers==4.51.0) (6.0.1)\n",
      "Requirement already satisfied: regex!=2019.12.17 in /usr/local/lib/python3.10/dist-packages (from transformers==4.51.0) (2024.11.6)\n",
      "Requirement already satisfied: requests in /usr/local/lib/python3.10/dist-packages (from transformers==4.51.0) (2.31.0)\n",
      "Requirement already satisfied: tokenizers<0.22,>=0.21 in /usr/local/lib/python3.10/dist-packages (from transformers==4.51.0) (0.21.1)\n",
      "Requirement already satisfied: safetensors>=0.4.3 in /usr/local/lib/python3.10/dist-packages (from transformers==4.51.0) (0.5.3)\n",
      "Requirement already satisfied: tqdm>=4.27 in /usr/local/lib/python3.10/dist-packages (from transformers==4.51.0) (4.67.1)\n",
      "Requirement already satisfied: fsspec>=2023.5.0 in /usr/local/lib/python3.10/dist-packages (from huggingface-hub<1.0,>=0.30.0->transformers==4.51.0) (2025.5.0)\n",
      "Requirement already satisfied: typing-extensions>=3.7.4.3 in /usr/local/lib/python3.10/dist-packages (from huggingface-hub<1.0,>=0.30.0->transformers==4.51.0) (4.13.2)\n",
      "Requirement already satisfied: charset-normalizer<4,>=2 in /usr/local/lib/python3.10/dist-packages (from requests->transformers==4.51.0) (2.1.1)\n",
      "Requirement already satisfied: idna<4,>=2.5 in /usr/local/lib/python3.10/dist-packages (from requests->transformers==4.51.0) (3.4)\n",
      "Requirement already satisfied: urllib3<3,>=1.21.1 in /usr/local/lib/python3.10/dist-packages (from requests->transformers==4.51.0) (1.26.13)\n",
      "Requirement already satisfied: certifi>=2017.4.17 in /usr/local/lib/python3.10/dist-packages (from requests->transformers==4.51.0) (2022.12.7)\n",
      "Downloading transformers-4.51.0-py3-none-any.whl (10.4 MB)\n",
      "\u001b[2K   \u001b[90m━━━━━━━━━━━━━━━━━━━━━━━━━━━━━━━━━━━━━━━━\u001b[0m \u001b[32m10.4/10.4 MB\u001b[0m \u001b[31m28.1 MB/s\u001b[0m eta \u001b[36m0:00:00\u001b[0m \u001b[36m0:00:01\u001b[0m\n",
      "\u001b[?25hInstalling collected packages: transformers\n",
      "Successfully installed transformers-4.51.0\n",
      "\u001b[33mWARNING: Running pip as the 'root' user can result in broken permissions and conflicting behaviour with the system package manager. It is recommended to use a virtual environment instead: https://pip.pypa.io/warnings/venv\u001b[0m\u001b[33m\n",
      "\u001b[0m\n",
      "\u001b[1m[\u001b[0m\u001b[34;49mnotice\u001b[0m\u001b[1;39;49m]\u001b[0m\u001b[39;49m A new release of pip is available: \u001b[0m\u001b[31;49m23.3.1\u001b[0m\u001b[39;49m -> \u001b[0m\u001b[32;49m25.1.1\u001b[0m\n",
      "\u001b[1m[\u001b[0m\u001b[34;49mnotice\u001b[0m\u001b[1;39;49m]\u001b[0m\u001b[39;49m To update, run: \u001b[0m\u001b[32;49mpython -m pip install --upgrade pip\u001b[0m\n",
      "\u001b[33mWARNING: Running pip as the 'root' user can result in broken permissions and conflicting behaviour with the system package manager. It is recommended to use a virtual environment instead: https://pip.pypa.io/warnings/venv\u001b[0m\u001b[33m\n",
      "\u001b[0m\n",
      "\u001b[1m[\u001b[0m\u001b[34;49mnotice\u001b[0m\u001b[1;39;49m]\u001b[0m\u001b[39;49m A new release of pip is available: \u001b[0m\u001b[31;49m23.3.1\u001b[0m\u001b[39;49m -> \u001b[0m\u001b[32;49m25.1.1\u001b[0m\n",
      "\u001b[1m[\u001b[0m\u001b[34;49mnotice\u001b[0m\u001b[1;39;49m]\u001b[0m\u001b[39;49m To update, run: \u001b[0m\u001b[32;49mpython -m pip install --upgrade pip\u001b[0m\n",
      "\u001b[33mWARNING: Running pip as the 'root' user can result in broken permissions and conflicting behaviour with the system package manager. It is recommended to use a virtual environment instead: https://pip.pypa.io/warnings/venv\u001b[0m\u001b[33m\n",
      "\u001b[0m\n",
      "\u001b[1m[\u001b[0m\u001b[34;49mnotice\u001b[0m\u001b[1;39;49m]\u001b[0m\u001b[39;49m A new release of pip is available: \u001b[0m\u001b[31;49m23.3.1\u001b[0m\u001b[39;49m -> \u001b[0m\u001b[32;49m25.1.1\u001b[0m\n",
      "\u001b[1m[\u001b[0m\u001b[34;49mnotice\u001b[0m\u001b[1;39;49m]\u001b[0m\u001b[39;49m To update, run: \u001b[0m\u001b[32;49mpython -m pip install --upgrade pip\u001b[0m\n"
     ]
    }
   ],
   "source": [
    "!pip install accelerate\n",
    "!pip install -q --upgrade langchain\n",
    "!pip install -q --upgrade langchain-openai\n",
    "!pip install -q --upgrade langchain_community\n",
    "!pip install \"transformers==4.51.0\"\n",
    "!pip install -q faiss-gpu\n",
    "!pip install -q pandas"
   ]
  },
  {
   "cell_type": "code",
   "execution_count": 7,
   "id": "4d1ab8fa-e503-4e43-8227-750e16810905",
   "metadata": {
    "id": "4d1ab8fa-e503-4e43-8227-750e16810905",
    "outputId": "f5fa7588-5919-4601-eb8e-33b1c777283b",
    "scrolled": true
   },
   "outputs": [
    {
     "name": "stdout",
     "output_type": "stream",
     "text": [
      "Found existing installation: numpy 1.26.4\n",
      "Uninstalling numpy-1.26.4:\n",
      "  Successfully uninstalled numpy-1.26.4\n",
      "\u001b[33mWARNING: Running pip as the 'root' user can result in broken permissions and conflicting behaviour with the system package manager. It is recommended to use a virtual environment instead: https://pip.pypa.io/warnings/venv\u001b[0m\u001b[33m\n",
      "\u001b[0mCollecting numpy==1.26.4\n",
      "  Using cached numpy-1.26.4-cp310-cp310-manylinux_2_17_x86_64.manylinux2014_x86_64.whl.metadata (61 kB)\n",
      "Using cached numpy-1.26.4-cp310-cp310-manylinux_2_17_x86_64.manylinux2014_x86_64.whl (18.2 MB)\n",
      "Installing collected packages: numpy\n",
      "Successfully installed numpy-1.26.4\n",
      "\u001b[33mWARNING: Running pip as the 'root' user can result in broken permissions and conflicting behaviour with the system package manager. It is recommended to use a virtual environment instead: https://pip.pypa.io/warnings/venv\u001b[0m\u001b[33m\n",
      "\u001b[0m\n",
      "\u001b[1m[\u001b[0m\u001b[34;49mnotice\u001b[0m\u001b[1;39;49m]\u001b[0m\u001b[39;49m A new release of pip is available: \u001b[0m\u001b[31;49m23.3.1\u001b[0m\u001b[39;49m -> \u001b[0m\u001b[32;49m25.1.1\u001b[0m\n",
      "\u001b[1m[\u001b[0m\u001b[34;49mnotice\u001b[0m\u001b[1;39;49m]\u001b[0m\u001b[39;49m To update, run: \u001b[0m\u001b[32;49mpython -m pip install --upgrade pip\u001b[0m\n"
     ]
    }
   ],
   "source": [
    "!pip uninstall -y numpy\n",
    "!pip install numpy==1.26.4"
   ]
  },
  {
   "cell_type": "code",
   "execution_count": 8,
   "id": "8bdd1801",
   "metadata": {
    "id": "8bdd1801"
   },
   "outputs": [],
   "source": [
    "import torch\n",
    "from transformers import AutoTokenizer, AutoModelForCausalLM\n",
    "from langchain_community.vectorstores import FAISS\n",
    "from langchain_openai import OpenAIEmbeddings\n",
    "import os\n",
    "import re"
   ]
  },
  {
   "cell_type": "code",
   "execution_count": 9,
   "id": "cf23ec7f",
   "metadata": {
    "colab": {
     "referenced_widgets": [
      "268e88ec74f540d085eab9509d914e96",
      "71fb347732bb4be99010677f032728e7",
      "a5ddbccbfbc7467db4ed94bea7155b91",
      "093c8699e4e64d35b6d5ed72317d9475",
      "fde5c3d048ba4269bf7b8c1ca3fe5e2b",
      "c4fe691444fa42fc9d794e27ce273645",
      "ef6f84a0f30b4f42a43fd46d321fd5c5",
      "e8ea113789364b5a91561e1251a26f30",
      "13d47d11fa0143a09b56c4ab94ef9ff7",
      "09c14f01f8234d559dc63e2f83ca51e7",
      "5e4ca7846011404b86a578c1ee8c32e2",
      "a7e12eed70e34c838b786d738c404779",
      "907090f02a1a43ecb1b0d00c0f341994",
      "ff2152684a0d4a8aa0e95db100e3bde0"
     ]
    },
    "id": "cf23ec7f",
    "outputId": "625813aa-4e2c-49fd-c7d4-b25031b82e5c"
   },
   "outputs": [
    {
     "data": {
      "application/vnd.jupyter.widget-view+json": {
       "model_id": "d6a42250a99d463da8d0a79821b45aba",
       "version_major": 2,
       "version_minor": 0
      },
      "text/plain": [
       "model.safetensors.index.json:   0%|          | 0.00/32.9k [00:00<?, ?B/s]"
      ]
     },
     "metadata": {},
     "output_type": "display_data"
    },
    {
     "data": {
      "application/vnd.jupyter.widget-view+json": {
       "model_id": "0fc3adab7b664f1b829df237337ec4f9",
       "version_major": 2,
       "version_minor": 0
      },
      "text/plain": [
       "Fetching 5 files:   0%|          | 0/5 [00:00<?, ?it/s]"
      ]
     },
     "metadata": {},
     "output_type": "display_data"
    },
    {
     "name": "stderr",
     "output_type": "stream",
     "text": [
      "Xet Storage is enabled for this repo, but the 'hf_xet' package is not installed. Falling back to regular HTTP download. For better performance, install the package with: `pip install huggingface_hub[hf_xet]` or `pip install hf_xet`\n",
      "Xet Storage is enabled for this repo, but the 'hf_xet' package is not installed. Falling back to regular HTTP download. For better performance, install the package with: `pip install huggingface_hub[hf_xet]` or `pip install hf_xet`\n",
      "Xet Storage is enabled for this repo, but the 'hf_xet' package is not installed. Falling back to regular HTTP download. For better performance, install the package with: `pip install huggingface_hub[hf_xet]` or `pip install hf_xet`\n",
      "Xet Storage is enabled for this repo, but the 'hf_xet' package is not installed. Falling back to regular HTTP download. For better performance, install the package with: `pip install huggingface_hub[hf_xet]` or `pip install hf_xet`\n",
      "Xet Storage is enabled for this repo, but the 'hf_xet' package is not installed. Falling back to regular HTTP download. For better performance, install the package with: `pip install huggingface_hub[hf_xet]` or `pip install hf_xet`\n"
     ]
    },
    {
     "data": {
      "application/vnd.jupyter.widget-view+json": {
       "model_id": "f9b8321e3f904d9d9a9923d7760ed49a",
       "version_major": 2,
       "version_minor": 0
      },
      "text/plain": [
       "model-00004-of-00005.safetensors:   0%|          | 0.00/3.19G [00:00<?, ?B/s]"
      ]
     },
     "metadata": {},
     "output_type": "display_data"
    },
    {
     "data": {
      "application/vnd.jupyter.widget-view+json": {
       "model_id": "4903a43bbd9d473db1052fda42031d36",
       "version_major": 2,
       "version_minor": 0
      },
      "text/plain": [
       "model-00003-of-00005.safetensors:   0%|          | 0.00/3.96G [00:00<?, ?B/s]"
      ]
     },
     "metadata": {},
     "output_type": "display_data"
    },
    {
     "data": {
      "application/vnd.jupyter.widget-view+json": {
       "model_id": "7de035b2e6534729b16a88a9e6baadbc",
       "version_major": 2,
       "version_minor": 0
      },
      "text/plain": [
       "model-00001-of-00005.safetensors:   0%|          | 0.00/4.00G [00:00<?, ?B/s]"
      ]
     },
     "metadata": {},
     "output_type": "display_data"
    },
    {
     "data": {
      "application/vnd.jupyter.widget-view+json": {
       "model_id": "32a124fa4615481698188e722f441f47",
       "version_major": 2,
       "version_minor": 0
      },
      "text/plain": [
       "model-00005-of-00005.safetensors:   0%|          | 0.00/1.24G [00:00<?, ?B/s]"
      ]
     },
     "metadata": {},
     "output_type": "display_data"
    },
    {
     "data": {
      "application/vnd.jupyter.widget-view+json": {
       "model_id": "6d890ad76da44c519a7b376adbb26193",
       "version_major": 2,
       "version_minor": 0
      },
      "text/plain": [
       "model-00002-of-00005.safetensors:   0%|          | 0.00/3.99G [00:00<?, ?B/s]"
      ]
     },
     "metadata": {},
     "output_type": "display_data"
    },
    {
     "data": {
      "application/vnd.jupyter.widget-view+json": {
       "model_id": "1ba57da81c554a908fad46236abc3bac",
       "version_major": 2,
       "version_minor": 0
      },
      "text/plain": [
       "Loading checkpoint shards:   0%|          | 0/5 [00:00<?, ?it/s]"
      ]
     },
     "metadata": {},
     "output_type": "display_data"
    },
    {
     "data": {
      "application/vnd.jupyter.widget-view+json": {
       "model_id": "c28453b8c8d54c8a866303d17c05367d",
       "version_major": 2,
       "version_minor": 0
      },
      "text/plain": [
       "generation_config.json:   0%|          | 0.00/239 [00:00<?, ?B/s]"
      ]
     },
     "metadata": {},
     "output_type": "display_data"
    }
   ],
   "source": [
    "model_name = \"Qwen/Qwen3-8B\"\n",
    "\n",
    "tokenizer = AutoTokenizer.from_pretrained(model_name)\n",
    "model = AutoModelForCausalLM.from_pretrained(\n",
    "    model_name,\n",
    "    torch_dtype=\"auto\",\n",
    "    device_map=\"auto\"\n",
    ")"
   ]
  },
  {
   "cell_type": "code",
   "execution_count": 11,
   "id": "c0634dcf",
   "metadata": {
    "id": "c0634dcf"
   },
   "outputs": [],
   "source": [
    "def classify_question(question, prev_question, prev_answer, prev_category):\n",
    "    classification_prompt = f'''\n",
    "당신은 반려견 상담 질문을 분류하는 전문가입니다.\n",
    "\n",
    "사용자가 입력한 질문을 다음 세 가지 중 하나로 분류하세요:\n",
    "\n",
    "1. 행동 교정: 반려견의 행동이 보호자에게 **불편함, 위협, 문제**로 인식되며, 그 행동을 **고치고 싶거나 줄이고 싶은 의도**가 포함된 경우\n",
    "   (예: 밥 줄 때 손을 물어요, 너무 짖어요, 훈련 방법이 궁금해요 등)\n",
    "2. 지식 탐색: 반려견의 습성, 특징, 돌봄 방법 등에 대해 **단순한 궁금증**을 표현한 경우\n",
    "   (예: 왜 머리를 비비나요?, 눈물 자국은 왜 생기나요?, 어떤 간식을 주면 좋아하나요?)\n",
    "3. 감정 공감: 반려견을 키우며 보호자가 겪는 **감정적인 어려움이나 정서적 고민**이 중심인 경우\n",
    "   (예: 요즘 강아지가 버겁게 느껴져요, 너무 예뻐서 걱정돼요, 이별을 생각하면 마음이 아파요)\n",
    "\n",
    "💡 분류 핵심 기준:\n",
    "- **\"왜 이러는 거야?\"** 라는 표현이 있어도, 질문된 행동이 **위험하거나 교정이 필요한 행동**이면 ‘행동 교정’입니다.\n",
    "- 행동 묘사 + 단순한 궁금증 = 지식 탐색\n",
    "- 감정 묘사 + 고민/불편함 표현 = 감정 공감\n",
    "\n",
    "이전 질문: {prev_question or \"(없음)\"}\n",
    "이전 질문 분류: {prev_category or \"(없음)\"}\n",
    "이전 응답: {prev_answer or \"(없음)\"}\n",
    "현재 질문: {question}\n",
    "\n",
    "📌 반드시 아래 형식으로만 출력하세요:\n",
    "카테고리: 행동 교정\n",
    "'''.strip()\n",
    "\n",
    "    msgs = [{\"role\": \"user\", \"content\": classification_prompt}]\n",
    "    prompt_text = tokenizer.apply_chat_template(\n",
    "        msgs,\n",
    "        tokenize=False,\n",
    "        add_generation_prompt=True,\n",
    "        enable_thinking=False\n",
    "    )\n",
    "    inputs = tokenizer(prompt_text, return_tensors=\"pt\").to(\"cuda\")\n",
    "    with torch.no_grad():\n",
    "        outputs = model.generate(**inputs, max_new_tokens=50)\n",
    "    output = tokenizer.decode(outputs[0][inputs.input_ids.shape[-1]:], skip_special_tokens=True).strip()\n",
    "    print(f\"\\n🧾 [모델 분류 출력]: {output}\")\n",
    "\n",
    "    match = re.search(r\"카테고리\\s*:\\s*(행동 교정|지식 탐색|감정 공감)\", output)\n",
    "    if match:\n",
    "        return match.group(1)\n",
    "    raise ValueError(f\"❌ 분류 실패: {output}\")"
   ]
  },
  {
   "cell_type": "code",
   "execution_count": 12,
   "id": "bee7d0f6-0a57-4cba-b6ea-dc76fd6eb83b",
   "metadata": {},
   "outputs": [
    {
     "name": "stderr",
     "output_type": "stream",
     "text": [
      "/usr/local/lib/python3.10/dist-packages/huggingface_hub/file_download.py:980: UserWarning: `local_dir_use_symlinks` parameter is deprecated and will be ignored. The process to download files to a local folder has been updated and do not rely on symlinks anymore. You only need to pass a destination folder as`local_dir`.\n",
      "For more details, check out https://huggingface.co/docs/huggingface_hub/main/en/guides/download#download-files-to-local-folder.\n",
      "  warnings.warn(\n"
     ]
    },
    {
     "data": {
      "application/vnd.jupyter.widget-view+json": {
       "model_id": "8aa6a843d1274fe1a0ce8d40382fc330",
       "version_major": 2,
       "version_minor": 0
      },
      "text/plain": [
       "index.faiss:   0%|          | 0.00/39.9M [00:00<?, ?B/s]"
      ]
     },
     "metadata": {},
     "output_type": "display_data"
    },
    {
     "data": {
      "application/vnd.jupyter.widget-view+json": {
       "model_id": "de77be6f57d24fc0bfa27f27453697fb",
       "version_major": 2,
       "version_minor": 0
      },
      "text/plain": [
       "index.pkl:   0%|          | 0.00/7.95M [00:00<?, ?B/s]"
      ]
     },
     "metadata": {},
     "output_type": "display_data"
    }
   ],
   "source": [
    "from huggingface_hub import hf_hub_download\n",
    "\n",
    "local_dir = \"openai_faiss_db\"\n",
    "\n",
    "for filename in [\"index.faiss\", \"index.pkl\"]:\n",
    "    hf_hub_download(\n",
    "        repo_id=\"daaaaiin/petmind-vectorstore\",\n",
    "        filename=filename,\n",
    "        repo_type=\"dataset\",\n",
    "        local_dir=local_dir,\n",
    "        local_dir_use_symlinks=False,\n",
    "    )"
   ]
  },
  {
   "cell_type": "code",
   "execution_count": null,
   "id": "7c7bb733",
   "metadata": {
    "id": "7c7bb733"
   },
   "outputs": [],
   "source": [
    "embedding_model = OpenAIEmbeddings(model=\"text-embedding-3-small\")\n",
    "vectordb = FAISS.load_local(\"openai_faiss_db\", embedding_model, allow_dangerous_deserialization=True)"
   ]
  },
  {
   "cell_type": "code",
   "execution_count": 14,
   "id": "54bfae27-b924-4872-9520-9380b33b7d84",
   "metadata": {},
   "outputs": [],
   "source": [
    "PROMPT_MAP = {\n",
    "    \"행동 교정\": \"\"\"당신은 반려견 행동 문제를 상담해주는 전문가입니다.\n",
    "\n",
    "상담의 목적은, 단순한 정보 제공이 아니라 **사용자의 상황을 정확히 이해한 뒤, 그에 맞는 맞춤형 해결책을 제시하는 것**입니다.\n",
    "\n",
    "아래의 상담 구조를 반드시 따르세요. 이 순서를 항상 정확히 지키세요:\n",
    "\n",
    "1. **분석**: 보호자의 고민을 바탕으로, 반려견의 행동에 대한 가능한 원인을 분석합니다.\n",
    "   - 단, 절대로 추측하지 말고 입력된 정보와 문맥에 근거해서만 설명하세요.\n",
    "   - 반려견 품종의 특성도 고려하세요.\n",
    "\n",
    "2. **해결책 제시**: 분석을 기반으로 가장 유효한 1가지 해결책만 제시하세요.\n",
    "   - 다양한 방법을 나열하지 말고, 상황에 맞는 핵심 조언 1가지를 간결히 전달하세요.\n",
    "\n",
    "3. **추가 질문**: 해결책 이후, 상담을 이어가기 위한 **1개의 구체적인 질문**을 던지세요.\n",
    "   - 보호자가 바로 답할 수 있도록 간단하고 상황 중심적으로 구성하세요.\n",
    "   - 예) \"메이가 산책 중 어떤 행동을 하나요?\" 처럼 물어보세요.\n",
    "\n",
    "❗ 절대 하지 말아야 할 것:\n",
    "- 고민만 듣고 바로 해결책을 제시하지 마세요.\n",
    "- 질문 없이 끝내거나, 분석 없이 해결책만 말하지 마세요.\n",
    "- 같은 내용을 반복하거나 장황하게 늘어놓지 마세요.\n",
    "\n",
    "문체 지침:\n",
    "- 공감 문구는 생략하세요. 분석부터 시작하세요.\n",
    "- 차분하고 전문가다운 어조로, 간결하게 작성하세요.\n",
    "\"\"\",\n",
    "    \"지식 탐색\": \"\"\"당신은 반려견과 관련된 일반적인 정보를 보호자에게 이해하기 쉽게 전달하는 전문가입니다.\n",
    "\n",
    "사용자의 질문은 반려견의 행동, 습관, 특성, 돌봄 방식 등 일상적인 궁금증에 해당하며,\n",
    "당신의 역할은 **간결하고 핵심적인 정보만을 제공하여 보호자가 스스로 이해하고 판단할 수 있도록 돕는 것**입니다.\n",
    "\n",
    "답변 지침:\n",
    "- 보호자가 처음 듣는 내용도 쉽게 이해할 수 있도록, **쉬운 표현**으로 설명하세요.\n",
    "- **불확실하거나 모호한 이론**은 언급하지 말고, **일반적으로 알려진 정보만** 전달하세요.\n",
    "- 행동의 원인, 습성, 돌봄 팁 등은 명확히 설명하되, **훈련법이나 교정 방법은 다루지 않습니다.**\n",
    "- **질병, 통증, 건강 이상 등 의학적 판단이 필요한 질문은 피하고, 반드시 수의사의 확인을 안내하세요.**\n",
    "\n",
    "문체는 짧고 단정하게 유지하고, 정보 위주로만 구성합니다.\n",
    "\"\"\",\n",
    "    \"감정 공감\":\"\"\"\n",
    "    당신은 반려견을 키우는 보호자의 감정을 이해하고, 현실적인 위로와 조언을 제공하는 감정 상담 전문가입니다.\n",
    "\n",
    "이 역할은 반려견과의 이별, 노화 같은 특별한 순간뿐만 아니라,\n",
    "양육 과정에서 느끼는 피로감, 좌절감, 거리감, 후회 등 보호자가 일상 속에서 겪는 감정적 어려움까지도 다룹니다.\n",
    "\n",
    "답변 목적:\n",
    "- 감정 표현에 공감하는 데 그치지 않고, 그 감정의 원인을 함께 찾고 이해할 수 있도록 도와주는 것입니다.\n",
    "- 감정의 원인이 질문 속에 명확히 드러나지 않은 경우, 사용자가 스스로 감정을 정리할 수 있도록 **추가 질문을 통해 유도**하세요.\n",
    "- 감정을 탐색하고 해소할 수 있도록, 상담자처럼 대화를 이끌어가야 합니다.\n",
    "\n",
    "답변 구조:\n",
    "1. 보호자의 감정 표현에 진심 어린 공감\n",
    "2. 감정의 원인이 명확하다면 → 이를 간결히 정리하고 감정 수용\n",
    "3. 감정의 원인이 불분명하다면 → 추가 질문 1~2개를 통해 이유를 함께 탐색\n",
    "4. 감정을 정리하고, 반려견과의 일상으로 다시 연결될 수 있도록 가볍고 현실적인 조언 제시\n",
    "\n",
    "문체 지침:\n",
    "- 지나치게 감성적인 문장, 장황한 설명은 피하고, 따뜻하면서도 차분한 어조를 유지하세요.\n",
    "- 위로는 현실적이어야 하며, 보호자가 부담을 느끼지 않도록 간결하게 말하세요.\n",
    "- 반려견은 절대로 '그녀', '그'처럼 인격화하지 말고, 반드시 '반려견', '강아지'처럼 중립적이거나 반려견 이름으로 지칭하세요.\n",
    "\"\"\"\n",
    "}\n"
   ]
  },
  {
   "cell_type": "code",
   "execution_count": 15,
   "id": "f766a2d1-c0bf-4f7a-9557-7a873723ad61",
   "metadata": {
    "id": "f766a2d1-c0bf-4f7a-9557-7a873723ad61"
   },
   "outputs": [],
   "source": [
    "def get_user_input():\n",
    "    user_input = input(\"\\n🧑 사용자 고민: \").strip()\n",
    "    if \"완료\" in user_input:\n",
    "        print(\"\\n✅ 대화를 종료합니다.\")\n",
    "        return None\n",
    "    return user_input\n",
    "\n",
    "def classify_and_get_prompt(user_input, prev_q, prev_a, prev_cate):\n",
    "    category = classify_question(user_input, prev_q, prev_a, prev_cate)\n",
    "    print(f\"\\n📌 분류된 카테고리: {category}\")\n",
    "    prompt = PROMPT_MAP[category]\n",
    "    return category, {\"role\": \"system\", \"content\": prompt}\n",
    "\n",
    "def search_documents(user_input):\n",
    "    retrieved_docs_with_score = vectordb.similarity_search_with_score(user_input, k=3)\n",
    "    threshold = 1.0\n",
    "    filtered_docs = [\n",
    "        doc.page_content\n",
    "        for doc, score in retrieved_docs_with_score\n",
    "        if score <= threshold\n",
    "    ]\n",
    "\n",
    "    if filtered_docs:\n",
    "        retrieved_context = \"\\n\\n\".join(filtered_docs)\n",
    "        print(\"🔍 검색된 문서:\\n\", retrieved_context)\n",
    "        return retrieved_context\n",
    "    else:\n",
    "        print(\"⚠️ 유사한 문서가 없습니다.\")\n",
    "        return None\n",
    "\n",
    "def build_chat_messages(system_msg, user_input, dog_info, chat_history, is_first, category, context=None):\n",
    "    if context:\n",
    "        system_msg[\"content\"] = f\"{system_msg['content']}\\n\\n{context}\"  # RAG 내용 추가\n",
    "\n",
    "    dog_name = dog_info.get(\"name\", \"반려견\")\n",
    "    dog_breed = dog_info.get(\"breed\", \"강아지\")\n",
    "    dog_age = dog_info.get(\"age\", \"알 수 없음\")\n",
    "    gender = dog_info.get(\"gender\", \"모름\")\n",
    "    neutered = dog_info.get(\"neutered\", \"모름\")\n",
    "    disease = dog_info.get(\"disease\", \"모름\")\n",
    "    disease_desc = dog_info.get(\"disease_desc\", \"\")\n",
    "    period = dog_info.get(\"period\", \"\")\n",
    "    housing = dog_info.get(\"housing\", \"\")\n",
    "\n",
    "    dog_profile = (\n",
    "        f\"• 이름: {dog_name}\\n\"\n",
    "        f\"• 견종: {dog_breed}\\n\"\n",
    "        f\"• 나이: {dog_age}살\\n\"\n",
    "        f\"• 성별: {gender}\\n\"\n",
    "        f\"• 중성화 여부: {neutered}\\n\"\n",
    "        f\"• 질병 이력: {disease} {'- ' + disease_desc if disease == '있음' else ''}\\n\"\n",
    "        f\"• 함께 산 기간: {period}\\n\"\n",
    "        f\"• 주거 형태: {housing}\"\n",
    "    )\n",
    "\n",
    "    user_message = (\n",
    "        f\"[보호자 질문]\\n{user_input}\\n\\n\"\n",
    "        f\"[반려견 프로필]\\n{dog_profile}\"\n",
    "    )\n",
    "\n",
    "    messages = [system_msg]\n",
    "\n",
    "    if is_first:\n",
    "        greeting = f\"안녕하세요. {dog_name} 보호자님! 상담을 시작하겠습니다.\"\n",
    "        messages.append({\"role\": \"assistant\", \"content\": greeting})\n",
    "        chat_history.append({\"role\": \"assistant\", \"content\": greeting})\n",
    "\n",
    "    messages += chat_history[-8:]\n",
    "    messages.append({\"role\": \"user\", \"content\": user_message})\n",
    "\n",
    "    print(\"\\n[DEBUG] 🧩 build_chat_messages 호출됨\")\n",
    "    print(\"[DEBUG] system_msg:\", system_msg)\n",
    "    print(\"[DEBUG] user_input:\", user_input)\n",
    "    print(\"[DEBUG] chat_history (최신 8개):\", chat_history[-8:])\n",
    "    print(\"[DEBUG] 최종 messages 길이:\", len(messages))\n",
    "    print(\"[DEBUG] 반환 타입 확인:\", type(messages), type(chat_history))\n",
    "\n",
    "    return messages, chat_history\n",
    "\n",
    "\n",
    "def generate_response(messages):\n",
    "    prompt_text = tokenizer.apply_chat_template(messages, tokenize=False, add_generation_prompt=True, enable_thinking=True)\n",
    "    inputs = tokenizer(prompt_text, return_tensors=\"pt\").to(\"cuda\")\n",
    "    with torch.no_grad():\n",
    "        outputs = model.generate(\n",
    "            **inputs,\n",
    "            max_new_tokens=2048,\n",
    "            temperature=0.6,\n",
    "            top_p=0.95,\n",
    "            top_k=20,\n",
    "            do_sample=True\n",
    "        )\n",
    "    return outputs[0][inputs.input_ids.shape[-1]:].tolist(), inputs.input_ids.shape[-1]\n",
    "\n",
    "def split_thinking_and_content(output_ids, input_len):\n",
    "    try:\n",
    "        end_token_id = 151668  # </think>\n",
    "        index = len(output_ids) - output_ids[::-1].index(end_token_id)\n",
    "    except ValueError:\n",
    "        index = 0\n",
    "    thinking = tokenizer.decode(output_ids[:index], skip_special_tokens=True).strip()\n",
    "    content = tokenizer.decode(output_ids[index:], skip_special_tokens=True).strip()\n",
    "    return thinking, content\n",
    "\n",
    "def print_response(category, content):\n",
    "    print(f\"\\n🤖 [{category} 응답]: {content}\")\n"
   ]
  },
  {
   "cell_type": "code",
   "execution_count": 16,
   "id": "a3437612-1ef2-4079-907b-b7afbdfff1a3",
   "metadata": {},
   "outputs": [
    {
     "name": "stdout",
     "output_type": "stream",
     "text": [
      "Collecting gradio\n",
      "  Downloading gradio-5.30.0-py3-none-any.whl.metadata (16 kB)\n",
      "Collecting aiofiles<25.0,>=22.0 (from gradio)\n",
      "  Downloading aiofiles-24.1.0-py3-none-any.whl.metadata (10 kB)\n",
      "Requirement already satisfied: anyio<5.0,>=3.0 in /usr/local/lib/python3.10/dist-packages (from gradio) (4.0.0)\n",
      "Collecting fastapi<1.0,>=0.115.2 (from gradio)\n",
      "  Downloading fastapi-0.115.12-py3-none-any.whl.metadata (27 kB)\n",
      "Collecting ffmpy (from gradio)\n",
      "  Downloading ffmpy-0.5.0-py3-none-any.whl.metadata (3.0 kB)\n",
      "Collecting gradio-client==1.10.1 (from gradio)\n",
      "  Downloading gradio_client-1.10.1-py3-none-any.whl.metadata (7.1 kB)\n",
      "Collecting groovy~=0.1 (from gradio)\n",
      "  Downloading groovy-0.1.2-py3-none-any.whl.metadata (6.1 kB)\n",
      "Requirement already satisfied: httpx>=0.24.1 in /usr/local/lib/python3.10/dist-packages (from gradio) (0.28.1)\n",
      "Requirement already satisfied: huggingface-hub>=0.28.1 in /usr/local/lib/python3.10/dist-packages (from gradio) (0.31.4)\n",
      "Requirement already satisfied: jinja2<4.0 in /usr/local/lib/python3.10/dist-packages (from gradio) (3.1.2)\n",
      "Requirement already satisfied: markupsafe<4.0,>=2.0 in /usr/local/lib/python3.10/dist-packages (from gradio) (2.1.2)\n",
      "Requirement already satisfied: numpy<3.0,>=1.0 in /usr/local/lib/python3.10/dist-packages (from gradio) (1.26.4)\n",
      "Requirement already satisfied: orjson~=3.0 in /usr/local/lib/python3.10/dist-packages (from gradio) (3.10.18)\n",
      "Requirement already satisfied: packaging in /usr/local/lib/python3.10/dist-packages (from gradio) (23.2)\n",
      "Requirement already satisfied: pandas<3.0,>=1.0 in /usr/local/lib/python3.10/dist-packages (from gradio) (2.2.3)\n",
      "Requirement already satisfied: pillow<12.0,>=8.0 in /usr/local/lib/python3.10/dist-packages (from gradio) (9.3.0)\n",
      "Requirement already satisfied: pydantic<2.12,>=2.0 in /usr/local/lib/python3.10/dist-packages (from gradio) (2.11.4)\n",
      "Collecting pydub (from gradio)\n",
      "  Downloading pydub-0.25.1-py2.py3-none-any.whl.metadata (1.4 kB)\n",
      "Collecting python-multipart>=0.0.18 (from gradio)\n",
      "  Downloading python_multipart-0.0.20-py3-none-any.whl.metadata (1.8 kB)\n",
      "Requirement already satisfied: pyyaml<7.0,>=5.0 in /usr/local/lib/python3.10/dist-packages (from gradio) (6.0.1)\n",
      "Collecting ruff>=0.9.3 (from gradio)\n",
      "  Downloading ruff-0.11.10-py3-none-manylinux_2_17_x86_64.manylinux2014_x86_64.whl.metadata (25 kB)\n",
      "Collecting safehttpx<0.2.0,>=0.1.6 (from gradio)\n",
      "  Downloading safehttpx-0.1.6-py3-none-any.whl.metadata (4.2 kB)\n",
      "Collecting semantic-version~=2.0 (from gradio)\n",
      "  Downloading semantic_version-2.10.0-py2.py3-none-any.whl.metadata (9.7 kB)\n",
      "Collecting starlette<1.0,>=0.40.0 (from gradio)\n",
      "  Downloading starlette-0.46.2-py3-none-any.whl.metadata (6.2 kB)\n",
      "Collecting tomlkit<0.14.0,>=0.12.0 (from gradio)\n",
      "  Downloading tomlkit-0.13.2-py3-none-any.whl.metadata (2.7 kB)\n",
      "Collecting typer<1.0,>=0.12 (from gradio)\n",
      "  Downloading typer-0.15.4-py3-none-any.whl.metadata (15 kB)\n",
      "Requirement already satisfied: typing-extensions~=4.0 in /usr/local/lib/python3.10/dist-packages (from gradio) (4.13.2)\n",
      "Collecting uvicorn>=0.14.0 (from gradio)\n",
      "  Downloading uvicorn-0.34.2-py3-none-any.whl.metadata (6.5 kB)\n",
      "Requirement already satisfied: fsspec in /usr/local/lib/python3.10/dist-packages (from gradio-client==1.10.1->gradio) (2025.5.0)\n",
      "Collecting websockets<16.0,>=10.0 (from gradio-client==1.10.1->gradio)\n",
      "  Downloading websockets-15.0.1-cp310-cp310-manylinux_2_5_x86_64.manylinux1_x86_64.manylinux_2_17_x86_64.manylinux2014_x86_64.whl.metadata (6.8 kB)\n",
      "Requirement already satisfied: idna>=2.8 in /usr/local/lib/python3.10/dist-packages (from anyio<5.0,>=3.0->gradio) (3.4)\n",
      "Requirement already satisfied: sniffio>=1.1 in /usr/local/lib/python3.10/dist-packages (from anyio<5.0,>=3.0->gradio) (1.3.0)\n",
      "Requirement already satisfied: exceptiongroup>=1.0.2 in /usr/local/lib/python3.10/dist-packages (from anyio<5.0,>=3.0->gradio) (1.1.3)\n",
      "Requirement already satisfied: certifi in /usr/local/lib/python3.10/dist-packages (from httpx>=0.24.1->gradio) (2022.12.7)\n",
      "Requirement already satisfied: httpcore==1.* in /usr/local/lib/python3.10/dist-packages (from httpx>=0.24.1->gradio) (1.0.9)\n",
      "Requirement already satisfied: h11>=0.16 in /usr/local/lib/python3.10/dist-packages (from httpcore==1.*->httpx>=0.24.1->gradio) (0.16.0)\n",
      "Requirement already satisfied: filelock in /usr/local/lib/python3.10/dist-packages (from huggingface-hub>=0.28.1->gradio) (3.9.0)\n",
      "Requirement already satisfied: requests in /usr/local/lib/python3.10/dist-packages (from huggingface-hub>=0.28.1->gradio) (2.31.0)\n",
      "Requirement already satisfied: tqdm>=4.42.1 in /usr/local/lib/python3.10/dist-packages (from huggingface-hub>=0.28.1->gradio) (4.67.1)\n",
      "Requirement already satisfied: python-dateutil>=2.8.2 in /usr/local/lib/python3.10/dist-packages (from pandas<3.0,>=1.0->gradio) (2.8.2)\n",
      "Requirement already satisfied: pytz>=2020.1 in /usr/local/lib/python3.10/dist-packages (from pandas<3.0,>=1.0->gradio) (2025.2)\n",
      "Requirement already satisfied: tzdata>=2022.7 in /usr/local/lib/python3.10/dist-packages (from pandas<3.0,>=1.0->gradio) (2025.2)\n",
      "Requirement already satisfied: annotated-types>=0.6.0 in /usr/local/lib/python3.10/dist-packages (from pydantic<2.12,>=2.0->gradio) (0.7.0)\n",
      "Requirement already satisfied: pydantic-core==2.33.2 in /usr/local/lib/python3.10/dist-packages (from pydantic<2.12,>=2.0->gradio) (2.33.2)\n",
      "Requirement already satisfied: typing-inspection>=0.4.0 in /usr/local/lib/python3.10/dist-packages (from pydantic<2.12,>=2.0->gradio) (0.4.1)\n",
      "Collecting click<8.2,>=8.0.0 (from typer<1.0,>=0.12->gradio)\n",
      "  Downloading click-8.1.8-py3-none-any.whl.metadata (2.3 kB)\n",
      "Collecting shellingham>=1.3.0 (from typer<1.0,>=0.12->gradio)\n",
      "  Downloading shellingham-1.5.4-py2.py3-none-any.whl.metadata (3.5 kB)\n",
      "Collecting rich>=10.11.0 (from typer<1.0,>=0.12->gradio)\n",
      "  Downloading rich-14.0.0-py3-none-any.whl.metadata (18 kB)\n",
      "Requirement already satisfied: six>=1.5 in /usr/lib/python3/dist-packages (from python-dateutil>=2.8.2->pandas<3.0,>=1.0->gradio) (1.16.0)\n",
      "Collecting markdown-it-py>=2.2.0 (from rich>=10.11.0->typer<1.0,>=0.12->gradio)\n",
      "  Downloading markdown_it_py-3.0.0-py3-none-any.whl.metadata (6.9 kB)\n",
      "Requirement already satisfied: pygments<3.0.0,>=2.13.0 in /usr/local/lib/python3.10/dist-packages (from rich>=10.11.0->typer<1.0,>=0.12->gradio) (2.16.1)\n",
      "Requirement already satisfied: charset-normalizer<4,>=2 in /usr/local/lib/python3.10/dist-packages (from requests->huggingface-hub>=0.28.1->gradio) (2.1.1)\n",
      "Requirement already satisfied: urllib3<3,>=1.21.1 in /usr/local/lib/python3.10/dist-packages (from requests->huggingface-hub>=0.28.1->gradio) (1.26.13)\n",
      "Collecting mdurl~=0.1 (from markdown-it-py>=2.2.0->rich>=10.11.0->typer<1.0,>=0.12->gradio)\n",
      "  Downloading mdurl-0.1.2-py3-none-any.whl.metadata (1.6 kB)\n",
      "Downloading gradio-5.30.0-py3-none-any.whl (54.2 MB)\n",
      "\u001b[2K   \u001b[90m━━━━━━━━━━━━━━━━━━━━━━━━━━━━━━━━━━━━━━━━\u001b[0m \u001b[32m54.2/54.2 MB\u001b[0m \u001b[31m83.4 MB/s\u001b[0m eta \u001b[36m0:00:00\u001b[0m:00:01\u001b[0m00:01\u001b[0m\n",
      "\u001b[?25hDownloading gradio_client-1.10.1-py3-none-any.whl (323 kB)\n",
      "\u001b[2K   \u001b[90m━━━━━━━━━━━━━━━━━━━━━━━━━━━━━━━━━━━━━━━━\u001b[0m \u001b[32m323.1/323.1 kB\u001b[0m \u001b[31m88.7 MB/s\u001b[0m eta \u001b[36m0:00:00\u001b[0m\n",
      "\u001b[?25hDownloading aiofiles-24.1.0-py3-none-any.whl (15 kB)\n",
      "Downloading fastapi-0.115.12-py3-none-any.whl (95 kB)\n",
      "\u001b[2K   \u001b[90m━━━━━━━━━━━━━━━━━━━━━━━━━━━━━━━━━━━━━━━━\u001b[0m \u001b[32m95.2/95.2 kB\u001b[0m \u001b[31m28.3 MB/s\u001b[0m eta \u001b[36m0:00:00\u001b[0m\n",
      "\u001b[?25hDownloading groovy-0.1.2-py3-none-any.whl (14 kB)\n",
      "Downloading python_multipart-0.0.20-py3-none-any.whl (24 kB)\n",
      "Downloading ruff-0.11.10-py3-none-manylinux_2_17_x86_64.manylinux2014_x86_64.whl (11.6 MB)\n",
      "\u001b[2K   \u001b[90m━━━━━━━━━━━━━━━━━━━━━━━━━━━━━━━━━━━━━━━━\u001b[0m \u001b[32m11.6/11.6 MB\u001b[0m \u001b[31m103.6 MB/s\u001b[0m eta \u001b[36m0:00:00\u001b[0m00:01\u001b[0m0:01\u001b[0m\n",
      "\u001b[?25hDownloading safehttpx-0.1.6-py3-none-any.whl (8.7 kB)\n",
      "Downloading semantic_version-2.10.0-py2.py3-none-any.whl (15 kB)\n",
      "Downloading starlette-0.46.2-py3-none-any.whl (72 kB)\n",
      "\u001b[2K   \u001b[90m━━━━━━━━━━━━━━━━━━━━━━━━━━━━━━━━━━━━━━━━\u001b[0m \u001b[32m72.0/72.0 kB\u001b[0m \u001b[31m32.8 MB/s\u001b[0m eta \u001b[36m0:00:00\u001b[0m\n",
      "\u001b[?25hDownloading tomlkit-0.13.2-py3-none-any.whl (37 kB)\n",
      "Downloading typer-0.15.4-py3-none-any.whl (45 kB)\n",
      "\u001b[2K   \u001b[90m━━━━━━━━━━━━━━━━━━━━━━━━━━━━━━━━━━━━━━━━\u001b[0m \u001b[32m45.3/45.3 kB\u001b[0m \u001b[31m19.8 MB/s\u001b[0m eta \u001b[36m0:00:00\u001b[0m\n",
      "\u001b[?25hDownloading uvicorn-0.34.2-py3-none-any.whl (62 kB)\n",
      "\u001b[2K   \u001b[90m━━━━━━━━━━━━━━━━━━━━━━━━━━━━━━━━━━━━━━━━\u001b[0m \u001b[32m62.5/62.5 kB\u001b[0m \u001b[31m27.7 MB/s\u001b[0m eta \u001b[36m0:00:00\u001b[0m\n",
      "\u001b[?25hDownloading ffmpy-0.5.0-py3-none-any.whl (6.0 kB)\n",
      "Downloading pydub-0.25.1-py2.py3-none-any.whl (32 kB)\n",
      "Downloading click-8.1.8-py3-none-any.whl (98 kB)\n",
      "\u001b[2K   \u001b[90m━━━━━━━━━━━━━━━━━━━━━━━━━━━━━━━━━━━━━━━━\u001b[0m \u001b[32m98.2/98.2 kB\u001b[0m \u001b[31m30.9 MB/s\u001b[0m eta \u001b[36m0:00:00\u001b[0m\n",
      "\u001b[?25hDownloading rich-14.0.0-py3-none-any.whl (243 kB)\n",
      "\u001b[2K   \u001b[90m━━━━━━━━━━━━━━━━━━━━━━━━━━━━━━━━━━━━━━━━\u001b[0m \u001b[32m243.2/243.2 kB\u001b[0m \u001b[31m79.5 MB/s\u001b[0m eta \u001b[36m0:00:00\u001b[0m\n",
      "\u001b[?25hDownloading shellingham-1.5.4-py2.py3-none-any.whl (9.8 kB)\n",
      "Downloading websockets-15.0.1-cp310-cp310-manylinux_2_5_x86_64.manylinux1_x86_64.manylinux_2_17_x86_64.manylinux2014_x86_64.whl (181 kB)\n",
      "\u001b[2K   \u001b[90m━━━━━━━━━━━━━━━━━━━━━━━━━━━━━━━━━━━━━━━━\u001b[0m \u001b[32m181.6/181.6 kB\u001b[0m \u001b[31m49.2 MB/s\u001b[0m eta \u001b[36m0:00:00\u001b[0m\n",
      "\u001b[?25hDownloading markdown_it_py-3.0.0-py3-none-any.whl (87 kB)\n",
      "\u001b[2K   \u001b[90m━━━━━━━━━━━━━━━━━━━━━━━━━━━━━━━━━━━━━━━━\u001b[0m \u001b[32m87.5/87.5 kB\u001b[0m \u001b[31m28.1 MB/s\u001b[0m eta \u001b[36m0:00:00\u001b[0m\n",
      "\u001b[?25hDownloading mdurl-0.1.2-py3-none-any.whl (10.0 kB)\n",
      "Installing collected packages: pydub, websockets, tomlkit, shellingham, semantic-version, ruff, python-multipart, mdurl, groovy, ffmpy, click, aiofiles, uvicorn, starlette, markdown-it-py, safehttpx, rich, gradio-client, fastapi, typer, gradio\n",
      "Successfully installed aiofiles-24.1.0 click-8.1.8 fastapi-0.115.12 ffmpy-0.5.0 gradio-5.30.0 gradio-client-1.10.1 groovy-0.1.2 markdown-it-py-3.0.0 mdurl-0.1.2 pydub-0.25.1 python-multipart-0.0.20 rich-14.0.0 ruff-0.11.10 safehttpx-0.1.6 semantic-version-2.10.0 shellingham-1.5.4 starlette-0.46.2 tomlkit-0.13.2 typer-0.15.4 uvicorn-0.34.2 websockets-15.0.1\n",
      "\u001b[33mWARNING: Running pip as the 'root' user can result in broken permissions and conflicting behaviour with the system package manager. It is recommended to use a virtual environment instead: https://pip.pypa.io/warnings/venv\u001b[0m\u001b[33m\n",
      "\u001b[0m\n",
      "\u001b[1m[\u001b[0m\u001b[34;49mnotice\u001b[0m\u001b[1;39;49m]\u001b[0m\u001b[39;49m A new release of pip is available: \u001b[0m\u001b[31;49m23.3.1\u001b[0m\u001b[39;49m -> \u001b[0m\u001b[32;49m25.1.1\u001b[0m\n",
      "\u001b[1m[\u001b[0m\u001b[34;49mnotice\u001b[0m\u001b[1;39;49m]\u001b[0m\u001b[39;49m To update, run: \u001b[0m\u001b[32;49mpython -m pip install --upgrade pip\u001b[0m\n"
     ]
    }
   ],
   "source": [
    "!pip install gradio"
   ]
  },
  {
   "cell_type": "code",
   "execution_count": 17,
   "id": "64f2c378-3d8c-4ea9-89aa-9b10f1991471",
   "metadata": {},
   "outputs": [
    {
     "name": "stdout",
     "output_type": "stream",
     "text": [
      "* Running on local URL:  http://127.0.0.1:7860\n",
      "* Running on public URL: https://406f66d9268ba143fa.gradio.live\n",
      "\n",
      "This share link expires in 1 week. For free permanent hosting and GPU upgrades, run `gradio deploy` from the terminal in the working directory to deploy to Hugging Face Spaces (https://huggingface.co/spaces)\n"
     ]
    },
    {
     "data": {
      "text/html": [
       "<div><iframe src=\"https://406f66d9268ba143fa.gradio.live\" width=\"100%\" height=\"500\" allow=\"autoplay; camera; microphone; clipboard-read; clipboard-write;\" frameborder=\"0\" allowfullscreen></iframe></div>"
      ],
      "text/plain": [
       "<IPython.core.display.HTML object>"
      ]
     },
     "metadata": {},
     "output_type": "display_data"
    },
    {
     "data": {
      "text/plain": []
     },
     "execution_count": 17,
     "metadata": {},
     "output_type": "execute_result"
    },
    {
     "name": "stdout",
     "output_type": "stream",
     "text": [
      "\n",
      "🧾 [모델 분류 출력]: 카테고리: 행동 교정\n",
      "\n",
      "📌 분류된 카테고리: 행동 교정\n",
      "🔍 검색된 문서:\n",
      " 수 있습니다. 우리 강아지, 추위 타고 있을까요? 강아지가 추위를 느끼고 있다면, 아래와 같은 행동을 할 수 있습니다. 몸을 떤다 산책 중 걷지 않는다 산책 중 건물로 들어가려 한다 낑낑거린다 꼬리를 다리 사이로 집어넣고 등을 구부린다 쿠팡 파트너스 활동을 통해 일정액의 수수료를 제공받을 수 있음 관련 제품\n",
      "\n",
      "밟아보고, 아스팔트 냄새도 맡아보고 다른 친구들과 어울려 사회성을 기른다면 강아지와 행복한 하루하루를 보낼 수 있겠죠? 또한, 예방접종이 덜 끝나서 전염병 등이 걱정된다면 강아지를 안고서라도 자주 산책하는 것도 추천 드립니다. 4. 위험한 환경에서는 안아서 이동하기 강아지와 산책 중에 예상치 못한 일들이 일어날 수 있기 때문에, 항상 주의깊게 살펴야합니다. 골목 귀퉁이를 도는데 갑자기 차가 들어올 수 있고, 크고 작은 크기의 날카로운 유리 파편들이 바닥에 있을 수도 있으며, 다른 동물의 배변을 먹을 수도 있어요. 언제 어디서 차가 들어올지 모르는 골목에서는 안고 이동을 하거나 줄을 팽팽하게 당긴채로 걷는 것이 좋습니다. 유리나 작은 돌이 많은 길을 걸어야할 때는, 안은 채로 지나가거나 강아지에게 바닥이 튼튼한 신발을 신기는 것도 좋겠죠? 마지막으로, 다른 동물의 배변을 먹는 것은 아주 위험하기 때문에 섭취하지 못하도록 안 돼 키워드와 함께 빠르게 이동을 하는 것이 좋습니다. 여기까지 산책 훈련에 대해서\n",
      "\n",
      "[DEBUG] 🧩 build_chat_messages 호출됨\n",
      "[DEBUG] system_msg: {'role': 'system', 'content': '당신은 반려견 행동 문제를 상담해주는 전문가입니다.\\n\\n상담의 목적은, 단순한 정보 제공이 아니라 **사용자의 상황을 정확히 이해한 뒤, 그에 맞는 맞춤형 해결책을 제시하는 것**입니다.\\n\\n아래의 상담 구조를 반드시 따르세요. 이 순서를 항상 정확히 지키세요:\\n\\n1. **분석**: 보호자의 고민을 바탕으로, 반려견의 행동에 대한 가능한 원인을 분석합니다.\\n   - 단, 절대로 추측하지 말고 입력된 정보와 문맥에 근거해서만 설명하세요.\\n   - 반려견 품종의 특성도 고려하세요.\\n\\n2. **해결책 제시**: 분석을 기반으로 가장 유효한 1가지 해결책만 제시하세요.\\n   - 다양한 방법을 나열하지 말고, 상황에 맞는 핵심 조언 1가지를 간결히 전달하세요.\\n\\n3. **추가 질문**: 해결책 이후, 상담을 이어가기 위한 **1개의 구체적인 질문**을 던지세요.\\n   - 보호자가 바로 답할 수 있도록 간단하고 상황 중심적으로 구성하세요.\\n   - 예) \"메이가 산책 중 어떤 행동을 하나요?\" 처럼 물어보세요.\\n\\n❗ 절대 하지 말아야 할 것:\\n- 고민만 듣고 바로 해결책을 제시하지 마세요.\\n- 질문 없이 끝내거나, 분석 없이 해결책만 말하지 마세요.\\n- 같은 내용을 반복하거나 장황하게 늘어놓지 마세요.\\n\\n문체 지침:\\n- 공감 문구는 생략하세요. 분석부터 시작하세요.\\n- 차분하고 전문가다운 어조로, 간결하게 작성하세요.\\n\\n\\n수 있습니다. 우리 강아지, 추위 타고 있을까요? 강아지가 추위를 느끼고 있다면, 아래와 같은 행동을 할 수 있습니다. 몸을 떤다 산책 중 걷지 않는다 산책 중 건물로 들어가려 한다 낑낑거린다 꼬리를 다리 사이로 집어넣고 등을 구부린다 쿠팡 파트너스 활동을 통해 일정액의 수수료를 제공받을 수 있음 관련 제품\\n\\n밟아보고, 아스팔트 냄새도 맡아보고 다른 친구들과 어울려 사회성을 기른다면 강아지와 행복한 하루하루를 보낼 수 있겠죠? 또한, 예방접종이 덜 끝나서 전염병 등이 걱정된다면 강아지를 안고서라도 자주 산책하는 것도 추천 드립니다. 4. 위험한 환경에서는 안아서 이동하기 강아지와 산책 중에 예상치 못한 일들이 일어날 수 있기 때문에, 항상 주의깊게 살펴야합니다. 골목 귀퉁이를 도는데 갑자기 차가 들어올 수 있고, 크고 작은 크기의 날카로운 유리 파편들이 바닥에 있을 수도 있으며, 다른 동물의 배변을 먹을 수도 있어요. 언제 어디서 차가 들어올지 모르는 골목에서는 안고 이동을 하거나 줄을 팽팽하게 당긴채로 걷는 것이 좋습니다. 유리나 작은 돌이 많은 길을 걸어야할 때는, 안은 채로 지나가거나 강아지에게 바닥이 튼튼한 신발을 신기는 것도 좋겠죠? 마지막으로, 다른 동물의 배변을 먹는 것은 아주 위험하기 때문에 섭취하지 못하도록 안 돼 키워드와 함께 빠르게 이동을 하는 것이 좋습니다. 여기까지 산책 훈련에 대해서'}\n",
      "[DEBUG] user_input: 강아지가 집 안에서는 활발한데, 엘리베이터만 타면 벌벌 떨고 안 나가려고 해요. 밖에 나가는 걸 무서워하는 걸까요?\n",
      "[DEBUG] chat_history (최신 8개): [{'role': 'assistant', 'content': '안녕하세요! 쿠키 보호자님! (시추)에 대해 상담을 시작해보겠습니다.'}, {'role': 'assistant', 'content': '안녕하세요. 쿠키 보호자님! 상담을 시작하겠습니다.'}]\n",
      "[DEBUG] 최종 messages 길이: 5\n",
      "[DEBUG] 반환 타입 확인: <class 'list'> <class 'list'>\n",
      "\n",
      "🧾 [모델 분류 출력]: 카테고리: 행동 교정\n",
      "\n",
      "📌 분류된 카테고리: 행동 교정\n",
      "⚠️ 유사한 문서가 없습니다.\n",
      "\n",
      "[DEBUG] 🧩 build_chat_messages 호출됨\n",
      "[DEBUG] system_msg: {'role': 'system', 'content': '당신은 반려견 행동 문제를 상담해주는 전문가입니다.\\n\\n상담의 목적은, 단순한 정보 제공이 아니라 **사용자의 상황을 정확히 이해한 뒤, 그에 맞는 맞춤형 해결책을 제시하는 것**입니다.\\n\\n아래의 상담 구조를 반드시 따르세요. 이 순서를 항상 정확히 지키세요:\\n\\n1. **분석**: 보호자의 고민을 바탕으로, 반려견의 행동에 대한 가능한 원인을 분석합니다.\\n   - 단, 절대로 추측하지 말고 입력된 정보와 문맥에 근거해서만 설명하세요.\\n   - 반려견 품종의 특성도 고려하세요.\\n\\n2. **해결책 제시**: 분석을 기반으로 가장 유효한 1가지 해결책만 제시하세요.\\n   - 다양한 방법을 나열하지 말고, 상황에 맞는 핵심 조언 1가지를 간결히 전달하세요.\\n\\n3. **추가 질문**: 해결책 이후, 상담을 이어가기 위한 **1개의 구체적인 질문**을 던지세요.\\n   - 보호자가 바로 답할 수 있도록 간단하고 상황 중심적으로 구성하세요.\\n   - 예) \"메이가 산책 중 어떤 행동을 하나요?\" 처럼 물어보세요.\\n\\n❗ 절대 하지 말아야 할 것:\\n- 고민만 듣고 바로 해결책을 제시하지 마세요.\\n- 질문 없이 끝내거나, 분석 없이 해결책만 말하지 마세요.\\n- 같은 내용을 반복하거나 장황하게 늘어놓지 마세요.\\n\\n문체 지침:\\n- 공감 문구는 생략하세요. 분석부터 시작하세요.\\n- 차분하고 전문가다운 어조로, 간결하게 작성하세요.\\n'}\n",
      "[DEBUG] user_input: ㅇ\n",
      "[DEBUG] chat_history (최신 8개): [{'role': 'assistant', 'content': '안녕하세요! 쿠키 보호자님! (시추)에 대해 상담을 시작해보겠습니다.'}, {'role': 'assistant', 'content': '안녕하세요. 쿠키 보호자님! 상담을 시작하겠습니다.'}, {'role': 'user', 'content': '강아지가 집 안에서는 활발한데, 엘리베이터만 타면 벌벌 떨고 안 나가려고 해요. 밖에 나가는 걸 무서워하는 걸까요?'}, {'role': 'assistant', 'content': '**분석**  \\n쿠키가 엘리베이터를 탈 때 벌벌 떨고 나가려 하지 않는 행동은 **밀폐된 공간에 대한 두려움**이나 **엘리베이터의 움직임에 대한 불안**이 원인일 수 있습니다. 시추는 일반적으로 민첩하고 활발하지만, **수술 후 신체적 불편감**이나 **과거 경험**이 추가로 불안을 유발할 수 있습니다. 특히 엘리베이터의 갑작스러운 움직임이나 좁은 공간이 스트레스 요인으로 작용할 가능성이 있습니다.\\n\\n**해결책 제시**  \\n현재 상황에서 **엘리베이터 사용 전후로 긍정적인 강화(예: 간식, 칭찬)**를 통해 쿠키의 불안을 완화하는 것이 중요합니다. 우선 엘리베이터 문 근처에서 쿠키가 편안하게 머무르는 시간을 늘려주고, 점차 내부로 들어가도록 유도하세요. 움직임을 느끼는 것에 대한 적응을 위한 **점진적 노출**이 효과적입니다.\\n\\n**추가 질문**  \\n쿠키가 엘리베이터 안에서 어떤 구체적인 행동을 보이나요? (예: 몸을 떨거나 소리를 지르거나, 문을 밀어내려는 등)'}]\n",
      "[DEBUG] 최종 messages 길이: 6\n",
      "[DEBUG] 반환 타입 확인: <class 'list'> <class 'list'>\n"
     ]
    }
   ],
   "source": [
    "import gradio as gr\n",
    "\n",
    "# 견종 리스트\n",
    "BREED_LIST = [\n",
    "    \"말티즈\", \"푸들\", \"포메라니안\", \"요크셔테리어\", \"시바견\",\n",
    "    \"리트리버\", \"웰시코기\", \"치와와\", \"비숑프리제\", \"닥스훈트\"\n",
    "]\n",
    "\n",
    "def save_dog_profile(img, name, breed, age, gender, neutered, disease, disease_desc, period, housing):\n",
    "\n",
    "    if not name or not breed:\n",
    "        return (\n",
    "            gr.update(visible=True, value=\"❌ 이름과 견종은 필수 입력입니다.\"),\n",
    "            gr.update(selected=\"반려견 정보 입력\"),\n",
    "            gr.update(value={}),\n",
    "            gr.update(value=[])\n",
    "        )\n",
    "\n",
    "    profile = {\n",
    "        \"img\": img,\n",
    "        \"name\": name,\n",
    "        \"breed\": breed,\n",
    "        \"age\": age,\n",
    "        \"gender\": gender,\n",
    "        \"neutered\": neutered,\n",
    "        \"disease\": disease,\n",
    "        \"disease_desc\": disease_desc if disease == \"있음\" else \"\",\n",
    "        \"period\": period,\n",
    "        \"housing\": housing,\n",
    "        \"chat_history\": [],\n",
    "        \"prev_q\": None,\n",
    "        \"prev_a\": None,\n",
    "        \"prev_cate\": None,\n",
    "        \"is_first_question\": True,\n",
    "    }\n",
    "\n",
    "    greeting = f\"안녕하세요! {name} 보호자님! ({breed})에 대해 상담을 시작해보겠습니다.\"\n",
    "    profile[\"chat_history\"].append({\"role\": \"assistant\", \"content\": greeting})\n",
    "\n",
    "    return (\n",
    "        gr.update(visible=True, value=f\"✅ {name} ({breed}) 정보가 저장되었습니다.\"),\n",
    "        gr.update(selected=\"고민 상담하기\"),\n",
    "        profile, \n",
    "        profile[\"chat_history\"]\n",
    "    )\n",
    "\n",
    "def consult(user_msg, profile):\n",
    "    # ✅ 카테고리 분류 및 프롬프트 구성 함수 사용\n",
    "    category, system_msg = classify_and_get_prompt(\n",
    "        user_msg,\n",
    "        profile.get(\"prev_q\"),\n",
    "        profile.get(\"prev_a\"),\n",
    "        profile.get(\"prev_cate\")\n",
    "    )\n",
    "\n",
    "    # ✅ 문서 검색 (RAG)\n",
    "    context = search_documents(user_msg)\n",
    "\n",
    "    # ✅ 메시지 구성\n",
    "    chat_history = profile.get(\"chat_history\", [])\n",
    "    is_first = profile.get(\"is_first_question\", True)\n",
    "\n",
    "    messages, _ = build_chat_messages(\n",
    "        system_msg, user_msg, profile, chat_history, is_first, category, context=context\n",
    "    )\n",
    "\n",
    "    # ✅ 응답 생성\n",
    "    output_ids, input_len = generate_response(messages)\n",
    "    _, content = split_thinking_and_content(output_ids, input_len)\n",
    "\n",
    "    # ✅ 채팅 기록 업데이트\n",
    "    chat_history.append({\"role\": \"user\", \"content\": user_msg})\n",
    "    chat_history.append({\"role\": \"assistant\", \"content\": content})\n",
    "\n",
    "    # ✅ 프로필 업데이트\n",
    "    profile.update({\n",
    "        \"chat_history\": chat_history,\n",
    "        \"prev_q\": user_msg,\n",
    "        \"prev_a\": content,\n",
    "        \"prev_cate\": category,\n",
    "        \"is_first_question\": False\n",
    "    })\n",
    "\n",
    "    return \"\", chat_history, profile\n",
    "\n",
    "\n",
    "with gr.Blocks(theme=gr.themes.Soft()) as demo:\n",
    "    dog_profile_state = gr.State({})\n",
    "\n",
    "    with gr.Tabs(selected=\"반려견 정보 입력\") as tabs:\n",
    "        with gr.Tab(\"반려견 정보 입력\"):\n",
    "            gr.Markdown(\"## 🐶 반려견 정보 입력\")\n",
    "            gr.Markdown(\"📷 반려견의 사진을 등록해주세요.\")\n",
    "            with gr.Row():\n",
    "                with gr.Column():\n",
    "                    dog_img = gr.Image(label=\"반려견 사진\", type=\"pil\", sources=[\"upload\"])\n",
    "                with gr.Column():\n",
    "                    dog_name = gr.Textbox(placeholder=\"예: 아리, 보리, 뭉치\", label=\"반려견 이름\")\n",
    "                    dog_breed = gr.Dropdown(choices=BREED_LIST, label=\"반려견 견종\", allow_custom_value=True)\n",
    "                    dog_age = gr.Number(label=\"나이 (살)\", precision=0)\n",
    "                    dog_gender = gr.Radio([\"남아\", \"여아\"], label=\"성별\", value=None)\n",
    "                    dog_neutered = gr.Radio([\"중성화 완료\", \"중성화 미완료\", \"모름\"], label=\"중성화 여부\", value=None)\n",
    "                    dog_disease = gr.Radio([\"있음\", \"없음\"], label=\" 과거 질병/수술 이력 여부\", value=None)\n",
    "                    dog_disease_detail = gr.Textbox(label=\"질병/수술 상세 내용\", placeholder=\"예: 슬개골 탈구 수술 (2022)\")\n",
    "                    dog_period = gr.Radio([\"① 1년 미만\", \"② 1년 이상~3년 미만\", \"③ 3년 이상~10년 미만\", \"④ 10년 이상\"], label=\"함께 산 기간\", value=None)\n",
    "                    dog_housing = gr.Dropdown(choices=[\"아파트\", \"단독주택\", \"빌라/다세대\", \"기타\"], label=\"주거 형태\", value=None)\n",
    "\n",
    "            confirm_button = gr.Button(\"✅ 반려견 정보 확인\")\n",
    "            confirm_msg = gr.Markdown(\"\", visible=False)\n",
    "\n",
    "        with gr.Tab(\"고민 상담하기\"):\n",
    "            chatbot_ui = gr.Chatbot(label=\"상담 챗봇\", type=\"messages\")\n",
    "            user_msg_input = gr.Textbox(label=\"보호자 고민 입력\", placeholder=\"예: 산책 중에 자꾸 짖어요\", scale=8)\n",
    "            send_button = gr.Button(\"상담 전송\")\n",
    "\n",
    "    confirm_button.click(\n",
    "        fn=save_dog_profile,\n",
    "        inputs=[\n",
    "            dog_img, dog_name, dog_breed, dog_age, dog_gender,\n",
    "            dog_neutered, dog_disease, dog_disease_detail,\n",
    "            dog_period, dog_housing\n",
    "        ],\n",
    "        outputs=[\n",
    "            confirm_msg, tabs, dog_profile_state, chatbot_ui\n",
    "        ]\n",
    "    )\n",
    "\n",
    "    send_button.click(\n",
    "        fn=consult,\n",
    "        inputs=[user_msg_input, dog_profile_state],\n",
    "        outputs=[user_msg_input, chatbot_ui, dog_profile_state]\n",
    "    )\n",
    "\n",
    "demo.launch(share=True)\n"
   ]
  },
  {
   "cell_type": "code",
   "execution_count": null,
   "id": "5433f892-68e3-41a4-b05e-a407175336d6",
   "metadata": {},
   "outputs": [],
   "source": []
  }
 ],
 "metadata": {
  "colab": {
   "provenance": []
  },
  "kernelspec": {
   "display_name": "Python 3 (ipykernel)",
   "language": "python",
   "name": "python3"
  },
  "language_info": {
   "codemirror_mode": {
    "name": "ipython",
    "version": 3
   },
   "file_extension": ".py",
   "mimetype": "text/x-python",
   "name": "python",
   "nbconvert_exporter": "python",
   "pygments_lexer": "ipython3",
   "version": "3.10.12"
  }
 },
 "nbformat": 4,
 "nbformat_minor": 5
}
